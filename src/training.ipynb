{
 "cells": [
  {
   "cell_type": "code",
   "id": "initial_id",
   "metadata": {
    "collapsed": true,
    "ExecuteTime": {
     "end_time": "2025-02-11T03:15:10.177092Z",
     "start_time": "2025-02-11T03:15:08.814007Z"
    }
   },
   "source": [
    "import torch\n",
    "import torch.nn as nn\n",
    "import matplotlib.pyplot as plt\n",
    "%matplotlib inline\n",
    "import pandas as pd\n"
   ],
   "outputs": [],
   "execution_count": 1
  },
  {
   "metadata": {
    "ExecuteTime": {
     "end_time": "2025-02-11T03:15:10.370725Z",
     "start_time": "2025-02-11T03:15:10.179096Z"
    }
   },
   "cell_type": "code",
   "source": "from landmarks import FaceLandmarks",
   "id": "e92936d3c6d19584",
   "outputs": [],
   "execution_count": 2
  },
  {
   "metadata": {
    "ExecuteTime": {
     "end_time": "2025-02-11T03:15:10.448189Z",
     "start_time": "2025-02-11T03:15:10.444941Z"
    }
   },
   "cell_type": "code",
   "source": "from emotion_model import LandmarkEmotionModel",
   "id": "d6f4f4befe9e1a95",
   "outputs": [],
   "execution_count": 3
  },
  {
   "metadata": {
    "ExecuteTime": {
     "end_time": "2025-02-11T03:15:11.340729Z",
     "start_time": "2025-02-11T03:15:10.452190Z"
    }
   },
   "cell_type": "code",
   "source": [
    "dataset_path = '../data/face_landmarks.csv'\n",
    "df = pd.read_csv(dataset_path, header=None)\n",
    "y = df[df.columns[0]]               # Values of the first column (Labels)\n",
    "\n",
    "x = df.drop(df.columns[0], axis=1)  # Rest of the columns are the features\n"
   ],
   "id": "10720f8f93eadde6",
   "outputs": [],
   "execution_count": 4
  },
  {
   "metadata": {
    "ExecuteTime": {
     "end_time": "2025-02-11T03:15:11.354507Z",
     "start_time": "2025-02-11T03:15:11.351770Z"
    }
   },
   "cell_type": "code",
   "source": "print(x.shape)",
   "id": "a1c912d2b9632e29",
   "outputs": [
    {
     "name": "stdout",
     "output_type": "stream",
     "text": [
      "(33383, 956)\n"
     ]
    }
   ],
   "execution_count": 5
  },
  {
   "metadata": {
    "ExecuteTime": {
     "end_time": "2025-02-11T03:15:11.694773Z",
     "start_time": "2025-02-11T03:15:11.361470Z"
    }
   },
   "cell_type": "code",
   "source": "from sklearn.model_selection import train_test_split",
   "id": "4527b01b6428394a",
   "outputs": [],
   "execution_count": 6
  },
  {
   "metadata": {
    "ExecuteTime": {
     "end_time": "2025-02-11T03:15:11.704788Z",
     "start_time": "2025-02-11T03:15:11.702490Z"
    }
   },
   "cell_type": "code",
   "source": "random_seed = 42",
   "id": "a10105aae7171318",
   "outputs": [],
   "execution_count": 7
  },
  {
   "metadata": {
    "ExecuteTime": {
     "end_time": "2025-02-11T03:15:11.889012Z",
     "start_time": "2025-02-11T03:15:11.712013Z"
    }
   },
   "cell_type": "code",
   "source": [
    "x = x.values\n",
    "y = y.values\n",
    "\n",
    "x_train, x_test, y_train, y_test = train_test_split(x, y, test_size=0.2,random_state=random_seed)"
   ],
   "id": "805ed19433d3057b",
   "outputs": [],
   "execution_count": 8
  },
  {
   "metadata": {
    "ExecuteTime": {
     "end_time": "2025-02-11T03:15:11.899428Z",
     "start_time": "2025-02-11T03:15:11.896067Z"
    }
   },
   "cell_type": "code",
   "source": "y_train",
   "id": "9054542146f32d4c",
   "outputs": [
    {
     "data": {
      "text/plain": [
       "array([0, 0, 0, ..., 0, 0, 0], dtype=int64)"
      ]
     },
     "execution_count": 9,
     "metadata": {},
     "output_type": "execute_result"
    }
   ],
   "execution_count": 9
  },
  {
   "metadata": {
    "ExecuteTime": {
     "end_time": "2025-02-11T03:15:11.940849Z",
     "start_time": "2025-02-11T03:15:11.905960Z"
    }
   },
   "cell_type": "code",
   "source": [
    "x_train = torch.FloatTensor(x_train)\n",
    "x_test = torch.FloatTensor(x_test)\n",
    "\n",
    "y_train = torch.FloatTensor(y_train).view(-1, 1)  # Reshape to (batch_size, 1)\n",
    "y_test = torch.FloatTensor(y_test).view(-1, 1)\n"
   ],
   "id": "8472cbe959980e0",
   "outputs": [],
   "execution_count": 10
  },
  {
   "metadata": {
    "ExecuteTime": {
     "end_time": "2025-02-11T03:15:11.953818Z",
     "start_time": "2025-02-11T03:15:11.950297Z"
    }
   },
   "cell_type": "code",
   "source": "y_train",
   "id": "97a6203ace1a86ef",
   "outputs": [
    {
     "data": {
      "text/plain": [
       "tensor([[0.],\n",
       "        [0.],\n",
       "        [0.],\n",
       "        ...,\n",
       "        [0.],\n",
       "        [0.],\n",
       "        [0.]])"
      ]
     },
     "execution_count": 11,
     "metadata": {},
     "output_type": "execute_result"
    }
   ],
   "execution_count": 11
  },
  {
   "metadata": {},
   "cell_type": "markdown",
   "source": "# Training the model",
   "id": "f447967655e4f1a0"
  },
  {
   "metadata": {
    "ExecuteTime": {
     "end_time": "2025-02-11T03:15:11.976779Z",
     "start_time": "2025-02-11T03:15:11.962021Z"
    }
   },
   "cell_type": "code",
   "source": [
    "# Check if GPU is available and set the device\n",
    "device = torch.device(\"cuda\" if torch.cuda.is_available() else \"cpu\")\n",
    "\n",
    "print(f\"Using device: {device}\")"
   ],
   "id": "614e7d55445ed611",
   "outputs": [
    {
     "name": "stdout",
     "output_type": "stream",
     "text": [
      "Using device: cuda\n"
     ]
    }
   ],
   "execution_count": 12
  },
  {
   "metadata": {
    "ExecuteTime": {
     "end_time": "2025-02-11T03:15:12.092891Z",
     "start_time": "2025-02-11T03:15:11.999260Z"
    }
   },
   "cell_type": "code",
   "source": [
    "x_train = x_train.to(device)\n",
    "y_train = y_train.to(device)"
   ],
   "id": "5d53f1d1bc7b4732",
   "outputs": [],
   "execution_count": 13
  },
  {
   "metadata": {
    "ExecuteTime": {
     "end_time": "2025-02-11T03:15:12.884464Z",
     "start_time": "2025-02-11T03:15:12.211864Z"
    }
   },
   "cell_type": "code",
   "source": [
    "model = LandmarkEmotionModel().to(device)\n",
    "criterion = nn.BCEWithLogitsLoss()\n",
    "optimizer = torch.optim.Adam(model.parameters(), lr=0.0001)"
   ],
   "id": "a83707b58fbd64e0",
   "outputs": [],
   "execution_count": 14
  },
  {
   "metadata": {
    "ExecuteTime": {
     "end_time": "2025-02-11T03:15:12.889995Z",
     "start_time": "2025-02-11T03:15:12.887472Z"
    }
   },
   "cell_type": "code",
   "source": [
    "epochs = 1000\n",
    "losses = []"
   ],
   "id": "71215d7c4e4d7003",
   "outputs": [],
   "execution_count": 15
  },
  {
   "metadata": {
    "ExecuteTime": {
     "end_time": "2025-02-11T03:15:28.678418Z",
     "start_time": "2025-02-11T03:15:26.895840Z"
    }
   },
   "cell_type": "code",
   "source": [
    "for i in range(epochs):\n",
    "    y_pred = model.forward(x_train)\n",
    "    loss = criterion(y_pred, y_train)\n",
    "\n",
    "    losses.append(loss.detach().cpu().numpy())\n",
    "\n",
    "    optimizer.zero_grad()\n",
    "    loss.backward()\n",
    "    optimizer.step()\n",
    "\n",
    "    if i % 10 == 0 or i == epochs - 1:\n",
    "        print(f\"Epoch {i}/{epochs} - Loss: {loss.item()}\")\n"
   ],
   "id": "774789280ad0b100",
   "outputs": [
    {
     "name": "stdout",
     "output_type": "stream",
     "text": [
      "Epoch 0/1000 - Loss: 1.708133339881897\n",
      "Epoch 10/1000 - Loss: 0.42519068717956543\n",
      "Epoch 20/1000 - Loss: 0.3916798233985901\n",
      "Epoch 30/1000 - Loss: 0.3907419443130493\n",
      "Epoch 40/1000 - Loss: 0.390966534614563\n",
      "Epoch 50/1000 - Loss: 0.39035913348197937\n",
      "Epoch 60/1000 - Loss: 0.3897849917411804\n",
      "Epoch 70/1000 - Loss: 0.38911017775535583\n",
      "Epoch 80/1000 - Loss: 0.38879555463790894\n",
      "Epoch 90/1000 - Loss: 0.3885821998119354\n",
      "Epoch 100/1000 - Loss: 0.3884093463420868\n",
      "Epoch 110/1000 - Loss: 0.3882286846637726\n",
      "Epoch 120/1000 - Loss: 0.38809657096862793\n",
      "Epoch 130/1000 - Loss: 0.3879678249359131\n",
      "Epoch 140/1000 - Loss: 0.3878363370895386\n",
      "Epoch 150/1000 - Loss: 0.3876917362213135\n",
      "Epoch 160/1000 - Loss: 0.38750892877578735\n",
      "Epoch 170/1000 - Loss: 0.3873192071914673\n",
      "Epoch 180/1000 - Loss: 0.38715603947639465\n",
      "Epoch 190/1000 - Loss: 0.3870093822479248\n",
      "Epoch 200/1000 - Loss: 0.38685140013694763\n",
      "Epoch 210/1000 - Loss: 0.38667362928390503\n",
      "Epoch 220/1000 - Loss: 0.3865141272544861\n",
      "Epoch 230/1000 - Loss: 0.3863528072834015\n",
      "Epoch 240/1000 - Loss: 0.3861837685108185\n",
      "Epoch 250/1000 - Loss: 0.38600730895996094\n",
      "Epoch 260/1000 - Loss: 0.3858272433280945\n",
      "Epoch 270/1000 - Loss: 0.3856390416622162\n",
      "Epoch 280/1000 - Loss: 0.38544008135795593\n",
      "Epoch 290/1000 - Loss: 0.3852373957633972\n",
      "Epoch 300/1000 - Loss: 0.38502249121665955\n",
      "Epoch 310/1000 - Loss: 0.38473910093307495\n",
      "Epoch 320/1000 - Loss: 0.3842967748641968\n",
      "Epoch 330/1000 - Loss: 0.38392964005470276\n",
      "Epoch 340/1000 - Loss: 0.3835611045360565\n",
      "Epoch 350/1000 - Loss: 0.38317781686782837\n",
      "Epoch 360/1000 - Loss: 0.38276734948158264\n",
      "Epoch 370/1000 - Loss: 0.38228368759155273\n",
      "Epoch 380/1000 - Loss: 0.38172847032546997\n",
      "Epoch 390/1000 - Loss: 0.3810690641403198\n",
      "Epoch 400/1000 - Loss: 0.3802698254585266\n",
      "Epoch 410/1000 - Loss: 0.37950214743614197\n",
      "Epoch 420/1000 - Loss: 0.3787299394607544\n",
      "Epoch 430/1000 - Loss: 0.3778699040412903\n",
      "Epoch 440/1000 - Loss: 0.3769597113132477\n",
      "Epoch 450/1000 - Loss: 0.3759125769138336\n",
      "Epoch 460/1000 - Loss: 0.37468934059143066\n",
      "Epoch 470/1000 - Loss: 0.37333232164382935\n",
      "Epoch 480/1000 - Loss: 0.3718489408493042\n",
      "Epoch 490/1000 - Loss: 0.37045755982398987\n",
      "Epoch 500/1000 - Loss: 0.3690377473831177\n",
      "Epoch 510/1000 - Loss: 0.36759844422340393\n",
      "Epoch 520/1000 - Loss: 0.3661268353462219\n",
      "Epoch 530/1000 - Loss: 0.3648744225502014\n",
      "Epoch 540/1000 - Loss: 0.3635757863521576\n",
      "Epoch 550/1000 - Loss: 0.36206671595573425\n",
      "Epoch 560/1000 - Loss: 0.3613168001174927\n",
      "Epoch 570/1000 - Loss: 0.35932448506355286\n",
      "Epoch 580/1000 - Loss: 0.35821202397346497\n",
      "Epoch 590/1000 - Loss: 0.3569415509700775\n",
      "Epoch 600/1000 - Loss: 0.35585930943489075\n",
      "Epoch 610/1000 - Loss: 0.3547893464565277\n",
      "Epoch 620/1000 - Loss: 0.35403382778167725\n",
      "Epoch 630/1000 - Loss: 0.3528144657611847\n",
      "Epoch 640/1000 - Loss: 0.35190635919570923\n",
      "Epoch 650/1000 - Loss: 0.35121220350265503\n",
      "Epoch 660/1000 - Loss: 0.3515208661556244\n",
      "Epoch 670/1000 - Loss: 0.3500523567199707\n",
      "Epoch 680/1000 - Loss: 0.34901466965675354\n",
      "Epoch 690/1000 - Loss: 0.34820038080215454\n",
      "Epoch 700/1000 - Loss: 0.34758278727531433\n",
      "Epoch 710/1000 - Loss: 0.34711989760398865\n",
      "Epoch 720/1000 - Loss: 0.34677496552467346\n",
      "Epoch 730/1000 - Loss: 0.3467394709587097\n",
      "Epoch 740/1000 - Loss: 0.3456710875034332\n",
      "Epoch 750/1000 - Loss: 0.34520620107650757\n",
      "Epoch 760/1000 - Loss: 0.3447147309780121\n",
      "Epoch 770/1000 - Loss: 0.3442261219024658\n",
      "Epoch 780/1000 - Loss: 0.3473079800605774\n",
      "Epoch 790/1000 - Loss: 0.3434702754020691\n",
      "Epoch 800/1000 - Loss: 0.34320804476737976\n",
      "Epoch 810/1000 - Loss: 0.3429855406284332\n",
      "Epoch 820/1000 - Loss: 0.34257012605667114\n",
      "Epoch 830/1000 - Loss: 0.3422726094722748\n",
      "Epoch 840/1000 - Loss: 0.34193024039268494\n",
      "Epoch 850/1000 - Loss: 0.34186145663261414\n",
      "Epoch 860/1000 - Loss: 0.3421168923377991\n",
      "Epoch 870/1000 - Loss: 0.3412405252456665\n",
      "Epoch 880/1000 - Loss: 0.3412463665008545\n",
      "Epoch 890/1000 - Loss: 0.3408378064632416\n",
      "Epoch 900/1000 - Loss: 0.34054452180862427\n",
      "Epoch 910/1000 - Loss: 0.3411906659603119\n",
      "Epoch 920/1000 - Loss: 0.34010374546051025\n",
      "Epoch 930/1000 - Loss: 0.3401229977607727\n",
      "Epoch 940/1000 - Loss: 0.3396754264831543\n",
      "Epoch 950/1000 - Loss: 0.3416697680950165\n",
      "Epoch 960/1000 - Loss: 0.34017908573150635\n",
      "Epoch 970/1000 - Loss: 0.3394392430782318\n",
      "Epoch 980/1000 - Loss: 0.33913472294807434\n",
      "Epoch 990/1000 - Loss: 0.33878639340400696\n",
      "Epoch 999/1000 - Loss: 0.33903592824935913\n"
     ]
    }
   ],
   "execution_count": 17
  },
  {
   "metadata": {
    "ExecuteTime": {
     "end_time": "2025-02-11T03:15:39.106249Z",
     "start_time": "2025-02-11T03:15:39.047753Z"
    }
   },
   "cell_type": "code",
   "source": "plt.plot(range(epochs), losses)",
   "id": "507f06a76790dc9c",
   "outputs": [
    {
     "data": {
      "text/plain": [
       "[<matplotlib.lines.Line2D at 0x25722eb3d10>]"
      ]
     },
     "execution_count": 18,
     "metadata": {},
     "output_type": "execute_result"
    },
    {
     "data": {
      "text/plain": [
       "<Figure size 640x480 with 1 Axes>"
      ],
      "image/png": "[encoded data removed]"
     },
     "metadata": {},
     "output_type": "display_data"
    }
   ],
   "execution_count": 18
  },
  {
   "metadata": {},
   "cell_type": "markdown",
   "source": "# Save the model",
   "id": "c56d07a1ec5477a1"
  },
  {
   "metadata": {
    "ExecuteTime": {
     "end_time": "2025-02-11T03:15:41.732133Z",
     "start_time": "2025-02-11T03:15:41.727812Z"
    }
   },
   "cell_type": "code",
   "source": [
    "if 1 == 1:\n",
    "    path = './models/landmark_emotion_model.pt'\n",
    "    torch.save(model.state_dict(), path)"
   ],
   "id": "5cb77003ac0ae288",
   "outputs": [],
   "execution_count": 19
  },
  {
   "metadata": {
    "ExecuteTime": {
     "end_time": "2025-02-11T03:15:13.101232500Z",
     "start_time": "2025-02-11T01:56:59.142984Z"
    }
   },
   "cell_type": "code",
   "source": "",
   "id": "5cd9a3b416a61632",
   "outputs": [],
   "execution_count": null
  }
 ],
 "metadata": {
  "kernelspec": {
   "display_name": "Python 3",
   "language": "python",
   "name": "python3"
  },
  "language_info": {
   "codemirror_mode": {
    "name": "ipython",
    "version": 2
   },
   "file_extension": ".py",
   "mimetype": "text/x-python",
   "name": "python",
   "nbconvert_exporter": "python",
   "pygments_lexer": "ipython2",
   "version": "2.7.6"
  }
 },
 "nbformat": 4,
 "nbformat_minor": 5
}
