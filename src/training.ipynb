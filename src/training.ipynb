{
 "cells": [
  {
   "cell_type": "code",
   "id": "initial_id",
   "metadata": {
    "collapsed": true,
    "ExecuteTime": {
     "end_time": "2025-02-15T16:16:11.153678Z",
     "start_time": "2025-02-15T16:16:11.150107Z"
    }
   },
   "source": [
    "import torch\n",
    "import torch.nn as nn\n",
    "import matplotlib.pyplot as plt\n",
    "%matplotlib inline\n",
    "import pandas as pd\n"
   ],
   "outputs": [],
   "execution_count": 19
  },
  {
   "metadata": {
    "ExecuteTime": {
     "end_time": "2025-02-15T16:16:11.214568Z",
     "start_time": "2025-02-15T16:16:11.212316Z"
    }
   },
   "cell_type": "code",
   "source": "from landmarks import FaceLandmarks",
   "id": "e92936d3c6d19584",
   "outputs": [],
   "execution_count": 20
  },
  {
   "metadata": {
    "ExecuteTime": {
     "end_time": "2025-02-15T16:16:11.228502Z",
     "start_time": "2025-02-15T16:16:11.225841Z"
    }
   },
   "cell_type": "code",
   "source": "from emotion_model import LandmarkEmotionModel",
   "id": "d6f4f4befe9e1a95",
   "outputs": [],
   "execution_count": 21
  },
  {
   "metadata": {
    "ExecuteTime": {
     "end_time": "2025-02-15T16:16:11.719675Z",
     "start_time": "2025-02-15T16:16:11.242534Z"
    }
   },
   "cell_type": "code",
   "source": [
    "dataset_path = '../data/face_landmarks.csv'\n",
    "df = pd.read_csv(dataset_path, header=None)\n",
    "y = df[df.columns[0]]               # Values of the first column (Labels)\n",
    "\n",
    "x = df.drop(df.columns[0], axis=1)  # Rest of the columns are the features\n"
   ],
   "id": "10720f8f93eadde6",
   "outputs": [],
   "execution_count": 22
  },
  {
   "metadata": {
    "ExecuteTime": {
     "end_time": "2025-02-15T16:16:11.753420Z",
     "start_time": "2025-02-15T16:16:11.750846Z"
    }
   },
   "cell_type": "code",
   "source": "print(x.shape)",
   "id": "a1c912d2b9632e29",
   "outputs": [
    {
     "name": "stdout",
     "output_type": "stream",
     "text": [
      "(17335, 956)\n"
     ]
    }
   ],
   "execution_count": 23
  },
  {
   "metadata": {
    "ExecuteTime": {
     "end_time": "2025-02-15T16:16:11.787528Z",
     "start_time": "2025-02-15T16:16:11.784237Z"
    }
   },
   "cell_type": "code",
   "source": "from sklearn.model_selection import train_test_split",
   "id": "4527b01b6428394a",
   "outputs": [],
   "execution_count": 24
  },
  {
   "metadata": {
    "ExecuteTime": {
     "end_time": "2025-02-15T16:16:11.836822Z",
     "start_time": "2025-02-15T16:16:11.834249Z"
    }
   },
   "cell_type": "code",
   "source": "random_seed = 42",
   "id": "a10105aae7171318",
   "outputs": [],
   "execution_count": 25
  },
  {
   "metadata": {
    "ExecuteTime": {
     "end_time": "2025-02-15T16:16:11.921452Z",
     "start_time": "2025-02-15T16:16:11.842326Z"
    }
   },
   "cell_type": "code",
   "source": [
    "x = x.values\n",
    "y = y.values\n",
    "\n",
    "x_train, x_test, y_train, y_test = train_test_split(x, y, test_size=0.2,random_state=random_seed)"
   ],
   "id": "805ed19433d3057b",
   "outputs": [],
   "execution_count": 26
  },
  {
   "metadata": {
    "ExecuteTime": {
     "end_time": "2025-02-15T16:16:11.937324Z",
     "start_time": "2025-02-15T16:16:11.934450Z"
    }
   },
   "cell_type": "code",
   "source": "y_train",
   "id": "9054542146f32d4c",
   "outputs": [
    {
     "data": {
      "text/plain": [
       "array([0, 1, 1, ..., 1, 0, 0], dtype=int64)"
      ]
     },
     "execution_count": 27,
     "metadata": {},
     "output_type": "execute_result"
    }
   ],
   "execution_count": 27
  },
  {
   "metadata": {
    "ExecuteTime": {
     "end_time": "2025-02-15T16:16:11.958202Z",
     "start_time": "2025-02-15T16:16:11.946338Z"
    }
   },
   "cell_type": "code",
   "source": [
    "x_train = torch.FloatTensor(x_train)\n",
    "x_test = torch.FloatTensor(x_test)\n",
    "\n",
    "y_train = torch.FloatTensor(y_train).view(-1, 1)  # Reshape to (batch_size, 1)\n",
    "y_test = torch.FloatTensor(y_test).view(-1, 1)\n"
   ],
   "id": "8472cbe959980e0",
   "outputs": [],
   "execution_count": 28
  },
  {
   "metadata": {
    "ExecuteTime": {
     "end_time": "2025-02-15T16:16:11.976213Z",
     "start_time": "2025-02-15T16:16:11.972174Z"
    }
   },
   "cell_type": "code",
   "source": "y_train",
   "id": "97a6203ace1a86ef",
   "outputs": [
    {
     "data": {
      "text/plain": [
       "tensor([[0.],\n",
       "        [1.],\n",
       "        [1.],\n",
       "        ...,\n",
       "        [1.],\n",
       "        [0.],\n",
       "        [0.]])"
      ]
     },
     "execution_count": 29,
     "metadata": {},
     "output_type": "execute_result"
    }
   ],
   "execution_count": 29
  },
  {
   "metadata": {},
   "cell_type": "markdown",
   "source": "# Training the model",
   "id": "f447967655e4f1a0"
  },
  {
   "metadata": {
    "ExecuteTime": {
     "end_time": "2025-02-15T16:16:12.014929Z",
     "start_time": "2025-02-15T16:16:12.011747Z"
    }
   },
   "cell_type": "code",
   "source": [
    "# Check if GPU is available and set the device\n",
    "device = torch.device(\"cuda\" if torch.cuda.is_available() else \"cpu\")\n",
    "\n",
    "print(f\"Using device: {device}\")"
   ],
   "id": "614e7d55445ed611",
   "outputs": [
    {
     "name": "stdout",
     "output_type": "stream",
     "text": [
      "Using device: cuda\n"
     ]
    }
   ],
   "execution_count": 30
  },
  {
   "metadata": {
    "ExecuteTime": {
     "end_time": "2025-02-15T16:16:12.065396Z",
     "start_time": "2025-02-15T16:16:12.046455Z"
    }
   },
   "cell_type": "code",
   "source": [
    "x_train = x_train.to(device)\n",
    "y_train = y_train.to(device)"
   ],
   "id": "5d53f1d1bc7b4732",
   "outputs": [],
   "execution_count": 31
  },
  {
   "metadata": {
    "ExecuteTime": {
     "end_time": "2025-02-15T16:16:12.117680Z",
     "start_time": "2025-02-15T16:16:12.113903Z"
    }
   },
   "cell_type": "code",
   "source": [
    "model = LandmarkEmotionModel().to(device)\n",
    "criterion = nn.BCEWithLogitsLoss()\n",
    "optimizer = torch.optim.Adam(model.parameters(), lr=0.0001)"
   ],
   "id": "a83707b58fbd64e0",
   "outputs": [],
   "execution_count": 32
  },
  {
   "metadata": {
    "ExecuteTime": {
     "end_time": "2025-02-15T16:16:12.155215Z",
     "start_time": "2025-02-15T16:16:12.152710Z"
    }
   },
   "cell_type": "code",
   "source": [
    "epochs = 400\n",
    "losses = []"
   ],
   "id": "71215d7c4e4d7003",
   "outputs": [],
   "execution_count": 33
  },
  {
   "metadata": {
    "ExecuteTime": {
     "end_time": "2025-02-15T16:16:12.901913Z",
     "start_time": "2025-02-15T16:16:12.158740Z"
    }
   },
   "cell_type": "code",
   "source": [
    "for i in range(epochs):\n",
    "    y_pred = model.forward(x_train)\n",
    "    loss = criterion(y_pred, y_train)\n",
    "\n",
    "    losses.append(loss.detach().cpu().numpy())\n",
    "\n",
    "    optimizer.zero_grad()\n",
    "    loss.backward()\n",
    "    optimizer.step()\n",
    "\n",
    "    if i % 10 == 0 or i == epochs - 1:\n",
    "        print(f\"Epoch {i}/{epochs} - Loss: {loss.item()}\")\n"
   ],
   "id": "774789280ad0b100",
   "outputs": [
    {
     "name": "stdout",
     "output_type": "stream",
     "text": [
      "Epoch 0/400 - Loss: 1.8942937850952148\n",
      "Epoch 10/400 - Loss: 0.5895615220069885\n",
      "Epoch 20/400 - Loss: 0.6220122575759888\n",
      "Epoch 30/400 - Loss: 0.5746421813964844\n",
      "Epoch 40/400 - Loss: 0.5673725605010986\n",
      "Epoch 50/400 - Loss: 0.5658833384513855\n",
      "Epoch 60/400 - Loss: 0.5642817616462708\n",
      "Epoch 70/400 - Loss: 0.5630678534507751\n",
      "Epoch 80/400 - Loss: 0.5621428489685059\n",
      "Epoch 90/400 - Loss: 0.5611884593963623\n",
      "Epoch 100/400 - Loss: 0.560219407081604\n",
      "Epoch 110/400 - Loss: 0.5592306852340698\n",
      "Epoch 120/400 - Loss: 0.5582187175750732\n",
      "Epoch 130/400 - Loss: 0.5572057366371155\n",
      "Epoch 140/400 - Loss: 0.5561692118644714\n",
      "Epoch 150/400 - Loss: 0.5550966262817383\n",
      "Epoch 160/400 - Loss: 0.5539724826812744\n",
      "Epoch 170/400 - Loss: 0.55283522605896\n",
      "Epoch 180/400 - Loss: 0.5516690611839294\n",
      "Epoch 190/400 - Loss: 0.550462543964386\n",
      "Epoch 200/400 - Loss: 0.5491816997528076\n",
      "Epoch 210/400 - Loss: 0.5478287935256958\n",
      "Epoch 220/400 - Loss: 0.5463778972625732\n",
      "Epoch 230/400 - Loss: 0.5447927117347717\n",
      "Epoch 240/400 - Loss: 0.5431833267211914\n",
      "Epoch 250/400 - Loss: 0.5415278673171997\n",
      "Epoch 260/400 - Loss: 0.539803147315979\n",
      "Epoch 270/400 - Loss: 0.5379738211631775\n",
      "Epoch 280/400 - Loss: 0.5360321998596191\n",
      "Epoch 290/400 - Loss: 0.5340614318847656\n",
      "Epoch 300/400 - Loss: 0.5320376753807068\n",
      "Epoch 310/400 - Loss: 0.5299529433250427\n",
      "Epoch 320/400 - Loss: 0.5277878642082214\n",
      "Epoch 330/400 - Loss: 0.5255551338195801\n",
      "Epoch 340/400 - Loss: 0.5232914686203003\n",
      "Epoch 350/400 - Loss: 0.5209663510322571\n",
      "Epoch 360/400 - Loss: 0.5185819864273071\n",
      "Epoch 370/400 - Loss: 0.5162006616592407\n",
      "Epoch 380/400 - Loss: 0.5130801200866699\n",
      "Epoch 390/400 - Loss: 0.5100999474525452\n",
      "Epoch 399/400 - Loss: 0.5076146721839905\n"
     ]
    }
   ],
   "execution_count": 34
  },
  {
   "metadata": {
    "ExecuteTime": {
     "end_time": "2025-02-15T16:16:12.970121Z",
     "start_time": "2025-02-15T16:16:12.915175Z"
    }
   },
   "cell_type": "code",
   "source": "plt.plot(range(epochs), losses)",
   "id": "507f06a76790dc9c",
   "outputs": [
    {
     "data": {
      "text/plain": [
       "[<matplotlib.lines.Line2D at 0x1aa0822ebd0>]"
      ]
     },
     "execution_count": 35,
     "metadata": {},
     "output_type": "execute_result"
    },
    {
     "data": {
      "text/plain": [
       "<Figure size 640x480 with 1 Axes>"
      ],
      "image/png": "[encoded data removed]"
     },
     "metadata": {},
     "output_type": "display_data"
    }
   ],
   "execution_count": 35
  },
  {
   "metadata": {},
   "cell_type": "markdown",
   "source": "# Save the model",
   "id": "c56d07a1ec5477a1"
  },
  {
   "metadata": {
    "ExecuteTime": {
     "end_time": "2025-02-15T16:16:12.991348Z",
     "start_time": "2025-02-15T16:16:12.986649Z"
    }
   },
   "cell_type": "code",
   "source": [
    "if 1 == 1:\n",
    "    path = './models/landmark_emotion_model.pt'\n",
    "    torch.save(model.state_dict(), path)"
   ],
   "id": "5cb77003ac0ae288",
   "outputs": [],
   "execution_count": 36
  },
  {
   "metadata": {
    "ExecuteTime": {
     "end_time": "2025-02-15T16:16:13.016967Z",
     "start_time": "2025-02-15T16:16:13.014370Z"
    }
   },
   "cell_type": "code",
   "source": "",
   "id": "5cd9a3b416a61632",
   "outputs": [],
   "execution_count": null
  }
 ],
 "metadata": {
  "kernelspec": {
   "display_name": "Python 3",
   "language": "python",
   "name": "python3"
  },
  "language_info": {
   "codemirror_mode": {
    "name": "ipython",
    "version": 2
   },
   "file_extension": ".py",
   "mimetype": "text/x-python",
   "name": "python",
   "nbconvert_exporter": "python",
   "pygments_lexer": "ipython2",
   "version": "2.7.6"
  }
 },
 "nbformat": 4,
 "nbformat_minor": 5
}
