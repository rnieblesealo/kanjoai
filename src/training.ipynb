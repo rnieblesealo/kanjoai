{
 "cells": [
  {
   "cell_type": "code",
   "id": "initial_id",
   "metadata": {
    "collapsed": true,
    "ExecuteTime": {
     "end_time": "2025-02-10T22:48:34.005789Z",
     "start_time": "2025-02-10T22:48:34.002898Z"
    }
   },
   "source": [
    "import torch\n",
    "import torch.nn as nn\n",
    "import matplotlib.pyplot as plt\n",
    "%matplotlib inline\n",
    "import pandas as pd\n"
   ],
   "outputs": [],
   "execution_count": 61
  },
  {
   "metadata": {
    "ExecuteTime": {
     "end_time": "2025-02-10T22:48:34.054482Z",
     "start_time": "2025-02-10T22:48:34.051846Z"
    }
   },
   "cell_type": "code",
   "source": "from landmarks import FaceLandmarks",
   "id": "e92936d3c6d19584",
   "outputs": [],
   "execution_count": 62
  },
  {
   "metadata": {
    "ExecuteTime": {
     "end_time": "2025-02-10T22:48:34.058967Z",
     "start_time": "2025-02-10T22:48:34.056486Z"
    }
   },
   "cell_type": "code",
   "source": [
    "class LandmarkEmotionModel(nn.Module):\n",
    "    def __init__(self,layer_1_size = 64, layer_2_size = 64):\n",
    "        super().__init__()\n",
    "\n",
    "        input_dimension = 956  # Amount of mediapipe landmarks/2\n",
    "        output_size = 1 #(Angry & Not Angry)\n",
    "\n",
    "        # initialize layers\n",
    "        self.layer_1 = nn.Linear(input_dimension, layer_1_size)\n",
    "        self.layer_2 = nn.Linear(layer_1_size, layer_2_size)\n",
    "        self.output_layer = nn.Linear(layer_2_size, output_size)\n",
    "\n",
    "        # initialize relu\n",
    "        self.relu = nn.ReLU()\n",
    "\n",
    "    def forward_prop(self, x):\n",
    "        # x = vector of input value; values going thru neural network\n",
    "        x = self.relu(self.layer_1(x))\n",
    "        x = self.relu(self.layer_2(x))\n",
    "\n",
    "        # sigmoid for last layer to obtain continuous result\n",
    "        x = self.output_layer(x)\n",
    "\n",
    "        return x\n"
   ],
   "id": "d6f4f4befe9e1a95",
   "outputs": [],
   "execution_count": 63
  },
  {
   "metadata": {
    "ExecuteTime": {
     "end_time": "2025-02-10T22:48:34.369672Z",
     "start_time": "2025-02-10T22:48:34.076060Z"
    }
   },
   "cell_type": "code",
   "source": [
    "dataset_path = '../data/face_landmarks.csv'\n",
    "df = pd.read_csv(dataset_path, header=None)\n",
    "y = df[df.columns[0]]               # Values of the first column (Labels)\n",
    "\n",
    "x = df.drop(df.columns[0], axis=1)  # Rest of the columns are the features\n"
   ],
   "id": "10720f8f93eadde6",
   "outputs": [],
   "execution_count": 64
  },
  {
   "metadata": {
    "ExecuteTime": {
     "end_time": "2025-02-10T22:48:34.405717Z",
     "start_time": "2025-02-10T22:48:34.403340Z"
    }
   },
   "cell_type": "code",
   "source": "print(x.shape)",
   "id": "a1c912d2b9632e29",
   "outputs": [
    {
     "name": "stdout",
     "output_type": "stream",
     "text": [
      "(10402, 956)\n"
     ]
    }
   ],
   "execution_count": 65
  },
  {
   "metadata": {
    "ExecuteTime": {
     "end_time": "2025-02-10T22:48:34.459644Z",
     "start_time": "2025-02-10T22:48:34.457066Z"
    }
   },
   "cell_type": "code",
   "source": "from sklearn.model_selection import train_test_split",
   "id": "4527b01b6428394a",
   "outputs": [],
   "execution_count": 66
  },
  {
   "metadata": {
    "ExecuteTime": {
     "end_time": "2025-02-10T22:48:34.463937Z",
     "start_time": "2025-02-10T22:48:34.461152Z"
    }
   },
   "cell_type": "code",
   "source": "random_seed = 42",
   "id": "a10105aae7171318",
   "outputs": [],
   "execution_count": 67
  },
  {
   "metadata": {
    "ExecuteTime": {
     "end_time": "2025-02-10T22:48:34.519601Z",
     "start_time": "2025-02-10T22:48:34.483600Z"
    }
   },
   "cell_type": "code",
   "source": [
    "x = x.values\n",
    "y = y.values\n",
    "\n",
    "x_train, x_test, y_train, y_test = train_test_split(x, y, test_size=0.2,random_state=random_seed)"
   ],
   "id": "805ed19433d3057b",
   "outputs": [],
   "execution_count": 68
  },
  {
   "metadata": {
    "ExecuteTime": {
     "end_time": "2025-02-10T22:48:34.552255Z",
     "start_time": "2025-02-10T22:48:34.549385Z"
    }
   },
   "cell_type": "code",
   "source": "y_train",
   "id": "9054542146f32d4c",
   "outputs": [
    {
     "data": {
      "text/plain": [
       "array([1, 1, 1, ..., 1, 0, 0], dtype=int64)"
      ]
     },
     "execution_count": 69,
     "metadata": {},
     "output_type": "execute_result"
    }
   ],
   "execution_count": 69
  },
  {
   "metadata": {
    "ExecuteTime": {
     "end_time": "2025-02-10T22:48:34.572950Z",
     "start_time": "2025-02-10T22:48:34.565209Z"
    }
   },
   "cell_type": "code",
   "source": [
    "x_train = torch.FloatTensor(x_train)\n",
    "x_test = torch.FloatTensor(x_test)\n",
    "\n",
    "y_train = torch.FloatTensor(y_train).view(-1, 1)  # Reshape to (batch_size, 1)\n",
    "y_test = torch.FloatTensor(y_test).view(-1, 1)\n"
   ],
   "id": "8472cbe959980e0",
   "outputs": [],
   "execution_count": 70
  },
  {
   "metadata": {
    "ExecuteTime": {
     "end_time": "2025-02-10T22:48:34.590424Z",
     "start_time": "2025-02-10T22:48:34.586234Z"
    }
   },
   "cell_type": "code",
   "source": "y_train",
   "id": "97a6203ace1a86ef",
   "outputs": [
    {
     "data": {
      "text/plain": [
       "tensor([[1.],\n",
       "        [1.],\n",
       "        [1.],\n",
       "        ...,\n",
       "        [1.],\n",
       "        [0.],\n",
       "        [0.]])"
      ]
     },
     "execution_count": 71,
     "metadata": {},
     "output_type": "execute_result"
    }
   ],
   "execution_count": 71
  },
  {
   "metadata": {},
   "cell_type": "markdown",
   "source": "# Training the model",
   "id": "f447967655e4f1a0"
  },
  {
   "metadata": {
    "ExecuteTime": {
     "end_time": "2025-02-10T22:48:34.634042Z",
     "start_time": "2025-02-10T22:48:34.631308Z"
    }
   },
   "cell_type": "code",
   "source": [
    "# Check if GPU is available and set the device\n",
    "device = torch.device(\"cuda\" if torch.cuda.is_available() else \"cpu\")\n",
    "print(f\"Using device: {device}\")"
   ],
   "id": "614e7d55445ed611",
   "outputs": [
    {
     "name": "stdout",
     "output_type": "stream",
     "text": [
      "Using device: cuda\n"
     ]
    }
   ],
   "execution_count": 72
  },
  {
   "metadata": {
    "ExecuteTime": {
     "end_time": "2025-02-10T22:48:34.821228Z",
     "start_time": "2025-02-10T22:48:34.802207Z"
    }
   },
   "cell_type": "code",
   "source": [
    "x_train = x_train.to(device)\n",
    "y_train = y_train.to(device)"
   ],
   "id": "5d53f1d1bc7b4732",
   "outputs": [],
   "execution_count": 73
  },
  {
   "metadata": {
    "ExecuteTime": {
     "end_time": "2025-02-10T22:48:34.829522Z",
     "start_time": "2025-02-10T22:48:34.824732Z"
    }
   },
   "cell_type": "code",
   "source": [
    "model = LandmarkEmotionModel().to(device)\n",
    "criterion = nn.BCEWithLogitsLoss()\n",
    "optimizer = torch.optim.Adam(model.parameters(), lr=0.0001)"
   ],
   "id": "a83707b58fbd64e0",
   "outputs": [],
   "execution_count": 74
  },
  {
   "metadata": {
    "ExecuteTime": {
     "end_time": "2025-02-10T22:48:34.878586Z",
     "start_time": "2025-02-10T22:48:34.876152Z"
    }
   },
   "cell_type": "code",
   "source": [
    "epochs = 1000\n",
    "losses = []"
   ],
   "id": "71215d7c4e4d7003",
   "outputs": [],
   "execution_count": 75
  },
  {
   "metadata": {
    "ExecuteTime": {
     "end_time": "2025-02-10T22:48:36.056216Z",
     "start_time": "2025-02-10T22:48:34.899855Z"
    }
   },
   "cell_type": "code",
   "source": [
    "for i in range(epochs):\n",
    "    y_pred = model.forward_prop(x_train)\n",
    "    loss = criterion(y_pred, y_train)\n",
    "\n",
    "    losses.append(loss.detach().cpu().numpy())\n",
    "\n",
    "    optimizer.zero_grad()\n",
    "    loss.backward()\n",
    "    optimizer.step()\n",
    "\n",
    "    if i % 10 == 0 or i == epochs - 1:\n",
    "        print(f\"Epoch {i}/{epochs} - Loss: {loss.item()}\")\n"
   ],
   "id": "774789280ad0b100",
   "outputs": [
    {
     "name": "stdout",
     "output_type": "stream",
     "text": [
      "Epoch 0/1000 - Loss: 0.9147496819496155\n",
      "Epoch 10/1000 - Loss: 0.6983371376991272\n",
      "Epoch 20/1000 - Loss: 0.674964427947998\n",
      "Epoch 30/1000 - Loss: 0.6658622622489929\n",
      "Epoch 40/1000 - Loss: 0.6608249545097351\n",
      "Epoch 50/1000 - Loss: 0.6587399840354919\n",
      "Epoch 60/1000 - Loss: 0.6569276452064514\n",
      "Epoch 70/1000 - Loss: 0.6547157764434814\n",
      "Epoch 80/1000 - Loss: 0.6526218056678772\n",
      "Epoch 90/1000 - Loss: 0.6505730748176575\n",
      "Epoch 100/1000 - Loss: 0.6484687328338623\n",
      "Epoch 110/1000 - Loss: 0.6462893486022949\n",
      "Epoch 120/1000 - Loss: 0.6440081000328064\n",
      "Epoch 130/1000 - Loss: 0.6416066288948059\n",
      "Epoch 140/1000 - Loss: 0.6390759944915771\n",
      "Epoch 150/1000 - Loss: 0.6364235281944275\n",
      "Epoch 160/1000 - Loss: 0.6336342096328735\n",
      "Epoch 170/1000 - Loss: 0.6307114958763123\n",
      "Epoch 180/1000 - Loss: 0.6276652216911316\n",
      "Epoch 190/1000 - Loss: 0.62446129322052\n",
      "Epoch 200/1000 - Loss: 0.6210377812385559\n",
      "Epoch 210/1000 - Loss: 0.61552494764328\n",
      "Epoch 220/1000 - Loss: 0.6142721176147461\n",
      "Epoch 230/1000 - Loss: 0.6077097654342651\n",
      "Epoch 240/1000 - Loss: 0.605060338973999\n",
      "Epoch 250/1000 - Loss: 0.6003419756889343\n",
      "Epoch 260/1000 - Loss: 0.6009141802787781\n",
      "Epoch 270/1000 - Loss: 0.5971528887748718\n",
      "Epoch 280/1000 - Loss: 0.5929308533668518\n",
      "Epoch 290/1000 - Loss: 0.5903437733650208\n",
      "Epoch 300/1000 - Loss: 0.5877230167388916\n",
      "Epoch 310/1000 - Loss: 0.5852020382881165\n",
      "Epoch 320/1000 - Loss: 0.5829188227653503\n",
      "Epoch 330/1000 - Loss: 0.5827266573905945\n",
      "Epoch 340/1000 - Loss: 0.5839884877204895\n",
      "Epoch 350/1000 - Loss: 0.5770363807678223\n",
      "Epoch 360/1000 - Loss: 0.575922966003418\n",
      "Epoch 370/1000 - Loss: 0.5733874440193176\n",
      "Epoch 380/1000 - Loss: 0.5722755193710327\n",
      "Epoch 390/1000 - Loss: 0.5737303495407104\n",
      "Epoch 400/1000 - Loss: 0.5713410377502441\n",
      "Epoch 410/1000 - Loss: 0.5703320503234863\n",
      "Epoch 420/1000 - Loss: 0.5676999092102051\n",
      "Epoch 430/1000 - Loss: 0.5662240386009216\n",
      "Epoch 440/1000 - Loss: 0.5630728006362915\n",
      "Epoch 450/1000 - Loss: 0.5647896528244019\n",
      "Epoch 460/1000 - Loss: 0.574085533618927\n",
      "Epoch 470/1000 - Loss: 0.5625166893005371\n",
      "Epoch 480/1000 - Loss: 0.5587111115455627\n",
      "Epoch 490/1000 - Loss: 0.5580310225486755\n",
      "Epoch 500/1000 - Loss: 0.5565512180328369\n",
      "Epoch 510/1000 - Loss: 0.5556196570396423\n",
      "Epoch 520/1000 - Loss: 0.5547806024551392\n",
      "Epoch 530/1000 - Loss: 0.5676659941673279\n",
      "Epoch 540/1000 - Loss: 0.5563027262687683\n",
      "Epoch 550/1000 - Loss: 0.5541835427284241\n",
      "Epoch 560/1000 - Loss: 0.5520561337471008\n",
      "Epoch 570/1000 - Loss: 0.5505526661872864\n",
      "Epoch 580/1000 - Loss: 0.5503079295158386\n",
      "Epoch 590/1000 - Loss: 0.551622748374939\n",
      "Epoch 600/1000 - Loss: 0.5489763617515564\n",
      "Epoch 610/1000 - Loss: 0.5513470768928528\n",
      "Epoch 620/1000 - Loss: 0.5468370914459229\n",
      "Epoch 630/1000 - Loss: 0.5520915985107422\n",
      "Epoch 640/1000 - Loss: 0.5459722876548767\n",
      "Epoch 650/1000 - Loss: 0.548470675945282\n",
      "Epoch 660/1000 - Loss: 0.5453183054924011\n",
      "Epoch 670/1000 - Loss: 0.547455370426178\n",
      "Epoch 680/1000 - Loss: 0.543491005897522\n",
      "Epoch 690/1000 - Loss: 0.5494269728660583\n",
      "Epoch 700/1000 - Loss: 0.5455114245414734\n",
      "Epoch 710/1000 - Loss: 0.5419778823852539\n",
      "Epoch 720/1000 - Loss: 0.5427919030189514\n",
      "Epoch 730/1000 - Loss: 0.5434364676475525\n",
      "Epoch 740/1000 - Loss: 0.5403497219085693\n",
      "Epoch 750/1000 - Loss: 0.542891800403595\n",
      "Epoch 760/1000 - Loss: 0.5393842458724976\n",
      "Epoch 770/1000 - Loss: 0.5436709523200989\n",
      "Epoch 780/1000 - Loss: 0.5393667817115784\n",
      "Epoch 790/1000 - Loss: 0.5400471687316895\n",
      "Epoch 800/1000 - Loss: 0.5384461283683777\n",
      "Epoch 810/1000 - Loss: 0.5432188510894775\n",
      "Epoch 820/1000 - Loss: 0.541121780872345\n",
      "Epoch 830/1000 - Loss: 0.5368170142173767\n",
      "Epoch 840/1000 - Loss: 0.5383689999580383\n",
      "Epoch 850/1000 - Loss: 0.5373177528381348\n",
      "Epoch 860/1000 - Loss: 0.53703373670578\n",
      "Epoch 870/1000 - Loss: 0.5383402705192566\n",
      "Epoch 880/1000 - Loss: 0.5343708992004395\n",
      "Epoch 890/1000 - Loss: 0.5393125414848328\n",
      "Epoch 900/1000 - Loss: 0.535582423210144\n",
      "Epoch 910/1000 - Loss: 0.5339462161064148\n",
      "Epoch 920/1000 - Loss: 0.5380951166152954\n",
      "Epoch 930/1000 - Loss: 0.5342701077461243\n",
      "Epoch 940/1000 - Loss: 0.5332385897636414\n",
      "Epoch 950/1000 - Loss: 0.5365708470344543\n",
      "Epoch 960/1000 - Loss: 0.5322449803352356\n",
      "Epoch 970/1000 - Loss: 0.5353119969367981\n",
      "Epoch 980/1000 - Loss: 0.5315759778022766\n",
      "Epoch 990/1000 - Loss: 0.5360865592956543\n",
      "Epoch 999/1000 - Loss: 0.5307294726371765\n"
     ]
    }
   ],
   "execution_count": 76
  },
  {
   "metadata": {
    "ExecuteTime": {
     "end_time": "2025-02-10T22:48:36.126649Z",
     "start_time": "2025-02-10T22:48:36.069475Z"
    }
   },
   "cell_type": "code",
   "source": "plt.plot(range(epochs), losses)",
   "id": "507f06a76790dc9c",
   "outputs": [
    {
     "data": {
      "text/plain": [
       "[<matplotlib.lines.Line2D at 0x20c1ba63fb0>]"
      ]
     },
     "execution_count": 77,
     "metadata": {},
     "output_type": "execute_result"
    },
    {
     "data": {
      "text/plain": [
       "<Figure size 640x480 with 1 Axes>"
      ],
      "image/png": "[encoded data removed]"
     },
     "metadata": {},
     "output_type": "display_data"
    }
   ],
   "execution_count": 77
  }
 ],
 "metadata": {
  "kernelspec": {
   "display_name": "Python 3",
   "language": "python",
   "name": "python3"
  },
  "language_info": {
   "codemirror_mode": {
    "name": "ipython",
    "version": 2
   },
   "file_extension": ".py",
   "mimetype": "text/x-python",
   "name": "python",
   "nbconvert_exporter": "python",
   "pygments_lexer": "ipython2",
   "version": "2.7.6"
  }
 },
 "nbformat": 4,
 "nbformat_minor": 5
}
